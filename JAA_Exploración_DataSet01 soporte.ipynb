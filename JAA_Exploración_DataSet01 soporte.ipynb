{
 "cells": [
  {
   "cell_type": "markdown",
   "id": "b9ee6cd0",
   "metadata": {},
   "source": [
    "## Colab: usar ésto"
   ]
  },
  {
   "cell_type": "code",
   "execution_count": null,
   "id": "2ae65c16",
   "metadata": {},
   "outputs": [],
   "source": [
    "# Importar Google Drive\n",
    "from google.colab import drive\n",
    "drive.mount(\"/content/drive\", force_remount=True)\n",
    "\n",
    "# Ruta al archivo CSV en Google Drive\n",
    "#file_path = 'drive/MyDrive/IoT_Fridge.csv'\n",
    "base='drive/MyDrive/CoderHouse/DS/DataSetFull/Processed_datasets/Processed_IoT_dataset/'\n",
    "file_path1 = base + 'IoT_Fridge.csv'\n",
    "file_path2 = base + 'IoT_Garage_Door.csv'\n",
    "file_path3 = base + 'IoT_GPS_Tracker.csv'\n",
    "file_path4 = base + 'IoT_Modbus.csv'\n",
    "file_path5 = base + 'IoT_Motion_Light.csv'\n",
    "file_path6 = base + 'IoT_Thermostat.csv'\n",
    "file_path7 = base + 'IoT_Weather.csv'"
   ]
  }
 ],
 "metadata": {
  "kernelspec": {
   "display_name": "Python 3 (ipykernel)",
   "language": "python",
   "name": "python3"
  },
  "language_info": {
   "codemirror_mode": {
    "name": "ipython",
    "version": 3
   },
   "file_extension": ".py",
   "mimetype": "text/x-python",
   "name": "python",
   "nbconvert_exporter": "python",
   "pygments_lexer": "ipython3",
   "version": "3.11.7"
  }
 },
 "nbformat": 4,
 "nbformat_minor": 5
}
